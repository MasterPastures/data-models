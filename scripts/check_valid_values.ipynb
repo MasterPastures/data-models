{
 "cells": [
  {
   "cell_type": "code",
   "execution_count": null,
   "metadata": {},
   "outputs": [],
   "source": [
    "#early draft tests/automations for attributes with valid values in data model "
   ]
  },
  {
   "cell_type": "code",
   "execution_count": null,
   "metadata": {},
   "outputs": [],
   "source": [
    "att_df = pd.read_csv(\"./modules/clinical/cohort.csv\")\n",
    "att_df"
   ]
  },
  {
   "cell_type": "code",
   "execution_count": 63,
   "metadata": {},
   "outputs": [],
   "source": [
    "def check_first_row_is_column_attribute(df): \n",
    "    attribute = df['Attribute'][0]\n",
    "    if df['Parent'][0] == \"ManifestColumn\":\n",
    "        message = f\"The first row attribute is '{attribute}' and has parent ManifestColumn\"\n",
    "        print(message)\n",
    "    else:\n",
    "        print(\"oops\")"
   ]
  },
  {
   "cell_type": "code",
   "execution_count": 78,
   "metadata": {},
   "outputs": [],
   "source": [
    "def check_other_rows_are_children(df):\n",
    "    attribute = df['Attribute'][0]\n",
    "    for x in df['Parent'][1:]:\n",
    "        if x is None:\n",
    "            print(\"parent is missing for valid value\")\n",
    "        elif x != attribute:\n",
    "            print(f'parent value {x} does not match manifest column attribute {attribute}')"
   ]
  },
  {
   "cell_type": "code",
   "execution_count": 94,
   "metadata": {},
   "outputs": [],
   "source": [
    "def replace_valid_values_field_with_child_attributes(df):\n",
    "     if df.loc[0, 'Valid Values'] is not None:\n",
    "         complete_valid_values = \",\".join(df.loc[1:, 'Attribute'].values.tolist())\n",
    "         df.loc[0, 'Valid Values'] = complete_valid_values\n",
    "     else:\n",
    "         print(\"attribute has no valid values\")\n",
    "     return df\n"
   ]
  },
  {
   "cell_type": "code",
   "execution_count": 95,
   "metadata": {},
   "outputs": [],
   "source": [
    "new_df = replace_valid_values_field_with_child_attributes(att_df)"
   ]
  },
  {
   "cell_type": "code",
   "execution_count": 61,
   "metadata": {},
   "outputs": [
    {
     "name": "stdout",
     "output_type": "stream",
     "text": [
      "attribute cohort has parent ManifestColumn\n"
     ]
    }
   ],
   "source": [
    "check_first_row_is_column_attribute(att_df)"
   ]
  },
  {
   "cell_type": "code",
   "execution_count": 80,
   "metadata": {},
   "outputs": [],
   "source": [
    "check_other_rows_are_children(att_df)"
   ]
  }
 ],
 "metadata": {
  "kernelspec": {
   "display_name": "Python 3",
   "language": "python",
   "name": "python3"
  },
  "language_info": {
   "codemirror_mode": {
    "name": "ipython",
    "version": 3
   },
   "file_extension": ".py",
   "mimetype": "text/x-python",
   "name": "python",
   "nbconvert_exporter": "python",
   "pygments_lexer": "ipython3",
   "version": "3.10.13"
  }
 },
 "nbformat": 4,
 "nbformat_minor": 2
}
