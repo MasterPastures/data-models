{
 "cells": [
  {
   "cell_type": "code",
   "execution_count": 33,
   "metadata": {},
   "outputs": [],
   "source": [
    "import synapseclient\n",
    "import pandas as pd\n",
    "import numpy as np"
   ]
  },
  {
   "cell_type": "code",
   "execution_count": 34,
   "metadata": {},
   "outputs": [],
   "source": [
    "# get model csv file\n",
    "model = pd.read_csv(\"AD.model.csv\")"
   ]
  },
  {
   "cell_type": "code",
   "execution_count": 35,
   "metadata": {},
   "outputs": [
    {
     "name": "stderr",
     "output_type": "stream",
     "text": [
      "\n",
      "UPGRADE AVAILABLE\n",
      "\n",
      "A more recent version of the Synapse Client (3.0.0) is available. Your version (2.7.2) can be upgraded by typing:\n",
      "    pip install --upgrade synapseclient\n",
      "\n",
      "Python Synapse Client version 3.0.0 release notes\n",
      "\n",
      "https://python-docs.synapse.org/build/html/news.html\n",
      "\n"
     ]
    },
    {
     "name": "stdout",
     "output_type": "stream",
     "text": [
      "Welcome, Abby Vander Linden!\n",
      "\n"
     ]
    }
   ],
   "source": [
    "# log in to synapse\n",
    "syn = synapseclient.Synapse()\n",
    "syn.login()"
   ]
  },
  {
   "cell_type": "code",
   "execution_count": 36,
   "metadata": {},
   "outputs": [],
   "source": [
    "# get synapse annotations table\n",
    "table = syn.tableQuery(\"select * from syn10242922\", includeRowIdAndRowVersion = False)\n"
   ]
  },
  {
   "cell_type": "code",
   "execution_count": 37,
   "metadata": {},
   "outputs": [],
   "source": [
    "table_df = pd.read_csv(table.filepath)"
   ]
  },
  {
   "cell_type": "code",
   "execution_count": 38,
   "metadata": {},
   "outputs": [],
   "source": [
    "# recently added values for study and tissue that aren't in the synapse table\n",
    "new_vals = model.loc[(model[\"Parent\"] == \"ValidValue\") & ~model[\"Attribute\"].isin(table_df[\"value\"])]"
   ]
  },
  {
   "cell_type": "code",
   "execution_count": 39,
   "metadata": {},
   "outputs": [],
   "source": [
    "# filter annotations table to only attributes in AD data model; remove enumerated pec grants\n",
    "ad_table = table_df.loc[table_df[\"key\"].isin(model[\"Attribute\"])]\n",
    "ad_table = ad_table.loc[ad_table[\"module\"] != \"PsychENCODESpecific\"]"
   ]
  },
  {
   "cell_type": "code",
   "execution_count": 40,
   "metadata": {},
   "outputs": [],
   "source": [
    "d = {\n",
    "    \"key\" : [\"study\", \n",
    "             \"tissue\", \n",
    "             \"tissue\"],\n",
    "    \"description\" : [\"Study\", \n",
    "                     \"A tissue is a mereologically maximal collection of cells that together perform physiological function.\", \n",
    "                     \"A tissue is a mereologically maximal collection of cells that together perform physiological function.\"],\n",
    "    \"columnType\" : [\"string\", \"string\", \"string\"],\n",
    "    \"value\" : [\"ROSMAP-IA\",\n",
    "               \"entorhinal cortex\",\n",
    "               \"angular gyrus\"],\n",
    "    \"valueDescription\" : [\"The ROSMAP iPSC-derived Astrocyte Study (ROSMAP-IA)\",\n",
    "                          \"Component of the temporal lobe on the mesial surface. The rostral and caudal boundaries of the entorhinal cortex are the rostral end of the collateral sulcus and the caudal end of the amygdala respectively. The medial boundary is the medial aspect of the temporal lobe and the lateral boundary is the collateral sulcus.\",\n",
    "                          \"Part of inferior parietal lobule formed by the cortex surrounding the upturned end of the superior temporal sulcus.\"],\n",
    "    \"source\" : [\"https://adknowledgeportal.synapse.org/Explore/Studies/DetailsPage/StudyDetails?Study=syn52383678\",\n",
    "                \"http://purl.obolibrary.org/obo/UBERON_0002728\",\n",
    "                \"http://purl.obolibrary.org/obo/UBERON_0002686\"],\n",
    "    \"module\" : [\"neuro\", \"experimentalData\", \"experimentalData\"]\n",
    "}\n",
    "\n",
    "add_vals = pd.DataFrame(d)\n",
    "\n",
    "all_table_terms = pd.concat([ad_table, add_vals], ignore_index=True)"
   ]
  },
  {
   "cell_type": "code",
   "execution_count": 41,
   "metadata": {},
   "outputs": [
    {
     "data": {
      "text/plain": [
       "True"
      ]
     },
     "execution_count": 41,
     "metadata": {},
     "output_type": "execute_result"
    }
   ],
   "source": [
    "# check that all model valid values are in the table\n",
    "model.loc[model[\"Parent\"] == \"ValidValue\"][\"Attribute\"].isin(all_table_terms[\"value\"]).all()"
   ]
  },
  {
   "cell_type": "code",
   "execution_count": 42,
   "metadata": {},
   "outputs": [
    {
     "data": {
      "text/plain": [
       "Index(['key', 'description', 'columnType', 'maximumSize', 'value',\n",
       "       'valueDescription', 'source', 'module'],\n",
       "      dtype='object')"
      ]
     },
     "execution_count": 42,
     "metadata": {},
     "output_type": "execute_result"
    }
   ],
   "source": [
    "# convert to schematic format and replace valid values\n",
    "enum_terms = all_table_terms.loc[all_table_terms[\"value\"].notna()]\n",
    "enum_terms.columns"
   ]
  },
  {
   "cell_type": "code",
   "execution_count": 43,
   "metadata": {},
   "outputs": [],
   "source": [
    "# rename columns\n",
    "enum_terms = enum_terms.rename(columns = {\"key\" : \"Parent\",\n",
    "                             \"valueDescription\" : \"Description\",\n",
    "                             \"value\" : \"Attribute\",\n",
    "                             \"source\" : \"Source\"}\n",
    "                             )\n",
    "\n",
    "enum_terms = enum_terms[[\"Attribute\", \"Description\", \"Parent\", \"Source\", \"columnType\", \"module\"]]"
   ]
  },
  {
   "cell_type": "code",
   "execution_count": 44,
   "metadata": {},
   "outputs": [],
   "source": [
    "# add data model columns plus the extras\n",
    "model_header = model.columns.to_list() + list([\"columnType\", \"module\"])\n",
    "model_enums = enum_terms.reindex(columns = model_header)"
   ]
  },
  {
   "cell_type": "code",
   "execution_count": 45,
   "metadata": {},
   "outputs": [],
   "source": [
    "# add module and columnType columns to the DataProperty attributes\n",
    "attribs = model.loc[model[\"Parent\"] == \"DataProperty\"]\n",
    "\n",
    "# join to annots table\n",
    "attrib_modules = all_table_terms[[\"key\", \"columnType\", \"module\"]]\n",
    "attrib_modules = attrib_modules.loc[attrib_modules[\"key\"].isin(attribs[\"Attribute\"])].drop_duplicates()\n",
    "\n",
    "model_attribs = attribs.merge(attrib_modules, how = \"left\", left_on = \"Attribute\", right_on = \"key\").drop([\"key\"], axis = 1)"
   ]
  },
  {
   "cell_type": "code",
   "execution_count": 46,
   "metadata": {},
   "outputs": [
    {
     "name": "stderr",
     "output_type": "stream",
     "text": [
      "[WARNING] /var/folders/dk/0kvw_jgs0x36k4d9nls882hc0000gq/T/ipykernel_95333/1844437373.py:6: FutureWarning: In a future version, object-dtype columns with all-bool values will not be included in reductions with bool_only=True. Explicitly cast to bool dtype instead.\n",
      "  updated_model = pd.concat([model_dts,\n",
      "\n"
     ]
    }
   ],
   "source": [
    "# slice and glue time\n",
    "# this leaves Component, which has no parent\n",
    "model_dts = model.loc[~model[\"Parent\"].isin([\"DataProperty\", \"ValidValue\"])]\n",
    "model_dts = model_dts.reindex(columns = model_header)\n",
    "\n",
    "updated_model = pd.concat([model_dts,\n",
    "                           model_attribs,\n",
    "                           model_enums],\n",
    "                           axis = 0)\n",
    "\n",
    "# set all validation rules to nan for now\n",
    "updated_model = updated_model.drop([\"Validation Rules\"], axis = 1)\n",
    "updated_model = updated_model.reindex(columns = model_header)"
   ]
  },
  {
   "cell_type": "code",
   "execution_count": 47,
   "metadata": {},
   "outputs": [],
   "source": [
    "# overwrite model csv\n",
    "updated_model.to_csv(\"AD.model.csv\", index = False)"
   ]
  }
 ],
 "metadata": {
  "kernelspec": {
   "display_name": "schematic-23.8.1",
   "language": "python",
   "name": "python3"
  },
  "language_info": {
   "codemirror_mode": {
    "name": "ipython",
    "version": 3
   },
   "file_extension": ".py",
   "mimetype": "text/x-python",
   "name": "python",
   "nbconvert_exporter": "python",
   "pygments_lexer": "ipython3",
   "version": "3.10.9"
  },
  "orig_nbformat": 4
 },
 "nbformat": 4,
 "nbformat_minor": 2
}
